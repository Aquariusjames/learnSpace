{
 "cells": [
  {
   "cell_type": "code",
   "execution_count": 1,
   "metadata": {
    "collapsed": true,
    "deletable": true,
    "editable": true
   },
   "outputs": [],
   "source": [
    "#numpy demo\n",
    "import numpy as np"
   ]
  },
  {
   "cell_type": "code",
   "execution_count": 3,
   "metadata": {
    "collapsed": false,
    "deletable": true,
    "editable": true
   },
   "outputs": [],
   "source": [
    "#创建ndarray  array 函数接受一切序列格式(包含一个numpy数组) 转换成numpy数组\n",
    "\n",
    "data=[7,6.5,10,123]\n",
    "\n",
    "arr1=np.array(data)\n",
    "#等长多列表组合成多维数组\n",
    "\n",
    "data2=([1,2,3],[4,5,6])\n",
    "arr2=np.array(data2)\n",
    "#arr2\n",
    "#arr2.shape  维度\n",
    "#arr2.dtype  类型"
   ]
  },
  {
   "cell_type": "code",
   "execution_count": 4,
   "metadata": {
    "collapsed": false,
    "deletable": true,
    "editable": true
   },
   "outputs": [
    {
     "data": {
      "text/plain": [
       "array([[[  0.00000000e+000,   0.00000000e+000],\n",
       "        [  2.12215770e-314,   1.97626258e-323],\n",
       "        [  0.00000000e+000,   0.00000000e+000],\n",
       "        [  0.00000000e+000,  -4.60750798e-126]],\n",
       "\n",
       "       [[  0.00000000e+000,   0.00000000e+000],\n",
       "        [ -3.02611129e+205,   0.00000000e+000],\n",
       "        [  0.00000000e+000,   1.28019457e-271],\n",
       "        [  2.15122387e-314,   2.16195671e-314]]])"
      ]
     },
     "execution_count": 4,
     "metadata": {},
     "output_type": "execute_result"
    }
   ],
   "source": [
    "#其他新建数组的方式和技巧\n",
    "np.zeros(10)\n",
    "np.zeros((3,5))\n",
    "np.empty((2,4,2))"
   ]
  },
  {
   "cell_type": "code",
   "execution_count": 23,
   "metadata": {
    "collapsed": false,
    "deletable": true,
    "editable": true
   },
   "outputs": [
    {
     "data": {
      "text/plain": [
       "dtype('float64')"
      ]
     },
     "execution_count": 23,
     "metadata": {},
     "output_type": "execute_result"
    }
   ],
   "source": [
    "#ndarray 数值类型\n",
    "a=np.array([1,2,3],dtype='float64')\n",
    "b=np.array([1.1,12,3,4],dtype='int32')\n",
    "#a.dtype\n",
    "b.dtype\n",
    "#精度已丢失\n",
    "c=b.astype('float64')\n",
    "c.dtype"
   ]
  },
  {
   "cell_type": "code",
   "execution_count": 29,
   "metadata": {
    "collapsed": false,
    "deletable": true,
    "editable": true
   },
   "outputs": [
    {
     "data": {
      "text/plain": [
       "array([123123123, 534534534,  23434654,  54645454], dtype=uint32)"
      ]
     },
     "execution_count": 29,
     "metadata": {},
     "output_type": "execute_result"
    }
   ],
   "source": [
    "uint1=np.array([123123123,534534534,23434654,54645454],dtype='u4')\n",
    "uint1"
   ]
  },
  {
   "cell_type": "code",
   "execution_count": 30,
   "metadata": {
    "collapsed": false,
    "deletable": true,
    "editable": true
   },
   "outputs": [
    {
     "data": {
      "text/plain": [
       "array([123123123,  53453453,  23334654,  54645454], dtype=int32)"
      ]
     },
     "execution_count": 30,
     "metadata": {},
     "output_type": "execute_result"
    }
   ],
   "source": [
    "int1=np.array([123123123,53453453,23334654,54645454],dtype='i4')\n",
    "int1"
   ]
  },
  {
   "cell_type": "code",
   "execution_count": 43,
   "metadata": {
    "collapsed": false,
    "deletable": true,
    "editable": true
   },
   "outputs": [
    {
     "data": {
      "text/plain": [
       "array([  0,   1,   2,   3,   4,   5, 123,   7,   8,   9])"
      ]
     },
     "execution_count": 43,
     "metadata": {},
     "output_type": "execute_result"
    }
   ],
   "source": [
    "#索引和切片\n",
    "arr3=np.arange(10)\n",
    "arr3[5:8]\n",
    "#数组的切片是个视图，不是copy所以更改会反映到源数组上\n",
    "view_arr=arr3[5:8]\n",
    "view_arr[1]=123\n",
    "#arr3\n",
    "#要得到一个copy需要arr3[5:8].copy\n",
    "view_arr2=arr3[5:8].copy()\n",
    "view_arr2[:] = 12\n",
    "arr3"
   ]
  },
  {
   "cell_type": "code",
   "execution_count": 8,
   "metadata": {
    "collapsed": false,
    "deletable": true,
    "editable": true,
    "scrolled": true
   },
   "outputs": [
    {
     "data": {
      "text/plain": [
       "(2, 2, 3)"
      ]
     },
     "execution_count": 8,
     "metadata": {},
     "output_type": "execute_result"
    }
   ],
   "source": [
    "arr4=np.array([[[1,2,3],[4,5,6]],[[7,8,9],[0,0,0]]])\n",
    "arr4.shape"
   ]
  },
  {
   "cell_type": "code",
   "execution_count": 12,
   "metadata": {
    "collapsed": false
   },
   "outputs": [
    {
     "data": {
      "text/plain": [
       "8"
      ]
     },
     "execution_count": 12,
     "metadata": {},
     "output_type": "execute_result"
    }
   ],
   "source": [
    "arr2d=np.array([[1,2,3],[4,5,6],[7,8,9]])\n",
    "arr2d.shape\n",
    "arr2d[2]\n",
    "arr2d[2][1]\n",
    "#逗号分隔索引\n",
    "arr2d[2,1]"
   ]
  }
 ],
 "metadata": {
  "kernelspec": {
   "display_name": "Python 3",
   "language": "python",
   "name": "python3"
  },
  "language_info": {
   "codemirror_mode": {
    "name": "ipython",
    "version": 3.0
   },
   "file_extension": ".py",
   "mimetype": "text/x-python",
   "name": "python",
   "nbconvert_exporter": "python",
   "pygments_lexer": "ipython3",
   "version": "3.5.2"
  }
 },
 "nbformat": 4,
 "nbformat_minor": 0
}