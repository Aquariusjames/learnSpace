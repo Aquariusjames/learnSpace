{
 "cells": [
  {
   "cell_type": "code",
   "execution_count": 31,
   "metadata": {
    "collapsed": false
   },
   "outputs": [
    {
     "data": {
      "text/plain": [
       "0    2.0\n",
       "1    4.0\n",
       "2    7.0\n",
       "3    2.0\n",
       "4    5.0\n",
       "dtype: float32"
      ]
     },
     "execution_count": 31,
     "metadata": {},
     "output_type": "execute_result"
    }
   ],
   "source": [
    "from pandas import Series,DataFrame\n",
    "import numpy as np \n",
    "import pandas as pd\n",
    "#pandas数据结构  series  dataframe\n",
    "#series\n",
    "series1= Series(np.array([2,4,7,2,5]).astype(np.float32))\n",
    "series1"
   ]
  },
  {
   "cell_type": "code",
   "execution_count": 30,
   "metadata": {
    "collapsed": false,
    "scrolled": true
   },
   "outputs": [
    {
     "data": {
      "text/plain": [
       "Ohio      False\n",
       "b          True\n",
       "c          True\n",
       "Texas     False\n",
       "e          True\n",
       "Oregon    False\n",
       "g          True\n",
       "dtype: bool"
      ]
     },
     "execution_count": 30,
     "metadata": {},
     "output_type": "execute_result"
    }
   ],
   "source": [
    "series2=Series(np.random.randint(100,size=2),index=['a','b'])\n",
    "#series2.values\n",
    "#$series2.index\n",
    "#index search\n",
    "series2['a']\n",
    "#dict create series\n",
    "sdata={'Ohio':35000,'Texas':71000,'Oregon':16000}\n",
    "s1=[1,2,3,4,5,6]\n",
    "i1=['Ohio','b','c','Texas','e','Oregon','g']\n",
    "series3=Series(sdata)\n",
    "series3\n",
    "#series4=Series(s1,i1)\n",
    "series4=Series(sdata,i1)\n",
    "series4\n",
    "#update index\n",
    "#series4.index=[1,2,3,4,5,6,7]\n",
    "pd.isnull(series4)"
   ]
  },
  {
   "cell_type": "code",
   "execution_count": 61,
   "metadata": {
    "collapsed": false
   },
   "outputs": [
    {
     "data": {
      "text/html": [
       "<div>\n",
       "<table border=\"1\" class=\"dataframe\">\n",
       "  <thead>\n",
       "    <tr style=\"text-align: right;\">\n",
       "      <th></th>\n",
       "      <th>pop</th>\n",
       "      <th>state</th>\n",
       "      <th>year</th>\n",
       "      <th>dept</th>\n",
       "    </tr>\n",
       "  </thead>\n",
       "  <tbody>\n",
       "    <tr>\n",
       "      <th>one</th>\n",
       "      <td>1.1</td>\n",
       "      <td>a</td>\n",
       "      <td>2000</td>\n",
       "      <td>1.4</td>\n",
       "    </tr>\n",
       "    <tr>\n",
       "      <th>two</th>\n",
       "      <td>1.3</td>\n",
       "      <td>b</td>\n",
       "      <td>2001</td>\n",
       "      <td>1.1</td>\n",
       "    </tr>\n",
       "    <tr>\n",
       "      <th>three</th>\n",
       "      <td>2.1</td>\n",
       "      <td>c</td>\n",
       "      <td>2002</td>\n",
       "      <td>1.3</td>\n",
       "    </tr>\n",
       "    <tr>\n",
       "      <th>four</th>\n",
       "      <td>2.6</td>\n",
       "      <td>d</td>\n",
       "      <td>2003</td>\n",
       "      <td>NaN</td>\n",
       "    </tr>\n",
       "  </tbody>\n",
       "</table>\n",
       "</div>"
      ],
      "text/plain": [
       "       pop state  year  dept\n",
       "one    1.1     a  2000   1.4\n",
       "two    1.3     b  2001   1.1\n",
       "three  2.1     c  2002   1.3\n",
       "four   2.6     d  2003   NaN"
      ]
     },
     "execution_count": 61,
     "metadata": {},
     "output_type": "execute_result"
    }
   ],
   "source": [
    "#DataFrame\n",
    "dataf={'state':['a','b','c','d'],\n",
    "       'year':[2000,2001,2002,2003],\n",
    "        'pop':[1.1,1.3,2.1,2.6]}\n",
    "dataframe1=DataFrame(dataf)\n",
    "dataframe1\n",
    "#dataframe1['state']\n",
    "#dataframe1.year\n",
    "#dataframe1.columns\n",
    "#data2=dataframe1.ix(1)\n",
    "#data2\n",
    "\n",
    "#NA情况\n",
    "dataframe2=DataFrame(dataf,columns=['pop','state','year','dept'],index=['one','two','three','four'])\n",
    "dataframe2.ix['three']\n",
    "\n",
    "#dataframe2['dept']=1.1\n",
    "dataframe2['dept']=np.arange(4)\n",
    "dataframe2\n",
    "#使用series 给dataframe赋值\n",
    "val=Series([1.1,1.3,1.4],index=['two','three','one'])\n",
    "dataframe2['dept']=val\n",
    "dataframe2"
   ]
  },
  {
   "cell_type": "code",
   "execution_count": null,
   "metadata": {
    "collapsed": true
   },
   "outputs": [],
   "source": []
  }
 ],
 "metadata": {
  "kernelspec": {
   "display_name": "Python 3",
   "language": "python",
   "name": "python3"
  },
  "language_info": {
   "codemirror_mode": {
    "name": "ipython",
    "version": 3
   },
   "file_extension": ".py",
   "mimetype": "text/x-python",
   "name": "python",
   "nbconvert_exporter": "python",
   "pygments_lexer": "ipython3",
   "version": "3.5.2"
  }
 },
 "nbformat": 4,
 "nbformat_minor": 2
}
