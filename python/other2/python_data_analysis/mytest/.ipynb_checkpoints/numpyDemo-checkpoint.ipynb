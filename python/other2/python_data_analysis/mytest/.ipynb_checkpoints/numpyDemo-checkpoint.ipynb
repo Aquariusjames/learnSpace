{
 "cells": [
  {
   "cell_type": "code",
   "execution_count": 1,
   "metadata": {
    "collapsed": true,
    "deletable": true,
    "editable": true
   },
   "outputs": [],
   "source": [
    "#numpy demo\n",
    "#%matplotlib inline\n",
    "import numpy as np"
   ]
  },
  {
   "cell_type": "code",
   "execution_count": 2,
   "metadata": {
    "collapsed": false,
    "deletable": true,
    "editable": true
   },
   "outputs": [],
   "source": [
    "#创建ndarray  array 函数接受一切序列格式(包含一个numpy数组) 转换成numpy数组\n",
    "\n",
    "data=[7,6.5,10,123]\n",
    "\n",
    "arr1=np.array(data)\n",
    "#等长多列表组合成多维数组\n",
    "\n",
    "data2=([1,2,3],[4,5,6])\n",
    "arr2=np.array(data2)\n",
    "#arr2\n",
    "#arr2.shape  维度\n",
    "#arr2.dtype  类型"
   ]
  },
  {
   "cell_type": "code",
   "execution_count": 4,
   "metadata": {
    "collapsed": false,
    "deletable": true,
    "editable": true
   },
   "outputs": [
    {
     "data": {
      "text/plain": [
       "array([[[  0.00000000e+000,   0.00000000e+000],\n",
       "        [  2.12215770e-314,   1.97626258e-323],\n",
       "        [  0.00000000e+000,   0.00000000e+000],\n",
       "        [  0.00000000e+000,  -4.60750798e-126]],\n",
       "\n",
       "       [[  0.00000000e+000,   0.00000000e+000],\n",
       "        [ -3.02611129e+205,   0.00000000e+000],\n",
       "        [  0.00000000e+000,   1.28019457e-271],\n",
       "        [  2.15122387e-314,   2.16195671e-314]]])"
      ]
     },
     "execution_count": 4,
     "metadata": {},
     "output_type": "execute_result"
    }
   ],
   "source": [
    "#其他新建数组的方式和技巧\n",
    "np.zeros(10)\n",
    "np.zeros((3,5))\n",
    "np.empty((2,4,2))"
   ]
  },
  {
   "cell_type": "code",
   "execution_count": 23,
   "metadata": {
    "collapsed": false,
    "deletable": true,
    "editable": true
   },
   "outputs": [
    {
     "data": {
      "text/plain": [
       "dtype('float64')"
      ]
     },
     "execution_count": 23,
     "metadata": {},
     "output_type": "execute_result"
    }
   ],
   "source": [
    "#ndarray 数值类型\n",
    "a=np.array([1,2,3],dtype='float64')\n",
    "b=np.array([1.1,12,3,4],dtype='int32')\n",
    "#a.dtype\n",
    "b.dtype\n",
    "#精度已丢失\n",
    "c=b.astype('float64')\n",
    "c.dtype"
   ]
  },
  {
   "cell_type": "code",
   "execution_count": 29,
   "metadata": {
    "collapsed": false,
    "deletable": true,
    "editable": true
   },
   "outputs": [
    {
     "data": {
      "text/plain": [
       "array([123123123, 534534534,  23434654,  54645454], dtype=uint32)"
      ]
     },
     "execution_count": 29,
     "metadata": {},
     "output_type": "execute_result"
    }
   ],
   "source": [
    "uint1=np.array([123123123,534534534,23434654,54645454],dtype='u4')\n",
    "uint1"
   ]
  },
  {
   "cell_type": "code",
   "execution_count": 30,
   "metadata": {
    "collapsed": false,
    "deletable": true,
    "editable": true
   },
   "outputs": [
    {
     "data": {
      "text/plain": [
       "array([123123123,  53453453,  23334654,  54645454], dtype=int32)"
      ]
     },
     "execution_count": 30,
     "metadata": {},
     "output_type": "execute_result"
    }
   ],
   "source": [
    "int1=np.array([123123123,53453453,23334654,54645454],dtype='i4')\n",
    "int1"
   ]
  },
  {
   "cell_type": "code",
   "execution_count": 43,
   "metadata": {
    "collapsed": false,
    "deletable": true,
    "editable": true
   },
   "outputs": [
    {
     "data": {
      "text/plain": [
       "array([  0,   1,   2,   3,   4,   5, 123,   7,   8,   9])"
      ]
     },
     "execution_count": 43,
     "metadata": {},
     "output_type": "execute_result"
    }
   ],
   "source": [
    "#索引和切片\n",
    "arr3=np.arange(10)\n",
    "arr3[5:8]\n",
    "#数组的切片是个视图，不是copy所以更改会反映到源数组上\n",
    "view_arr=arr3[5:8]\n",
    "view_arr[1]=123\n",
    "#arr3\n",
    "#要得到一个copy需要arr3[5:8].copy\n",
    "view_arr2=arr3[5:8].copy()\n",
    "view_arr2[:] = 12\n",
    "arr3"
   ]
  },
  {
   "cell_type": "code",
   "execution_count": 8,
   "metadata": {
    "collapsed": false,
    "deletable": true,
    "editable": true,
    "scrolled": true
   },
   "outputs": [
    {
     "data": {
      "text/plain": [
       "(2, 2, 3)"
      ]
     },
     "execution_count": 8,
     "metadata": {},
     "output_type": "execute_result"
    }
   ],
   "source": [
    "arr4=np.array([[[1,2,3],[4,5,6]],[[7,8,9],[0,0,0]]])\n",
    "arr4.shape"
   ]
  },
  {
   "cell_type": "code",
   "execution_count": 12,
   "metadata": {
    "collapsed": false,
    "deletable": true,
    "editable": true
   },
   "outputs": [
    {
     "data": {
      "text/plain": [
       "8"
      ]
     },
     "execution_count": 12,
     "metadata": {},
     "output_type": "execute_result"
    }
   ],
   "source": [
    "arr2d=np.array([[1,2,3],[4,5,6],[7,8,9]])\n",
    "arr2d.shape\n",
    "arr2d[2]\n",
    "arr2d[2][1]\n",
    "#逗号分隔索引\n",
    "arr2d[2,1]"
   ]
  },
  {
   "cell_type": "code",
   "execution_count": 10,
   "metadata": {
    "collapsed": false,
    "deletable": true,
    "editable": true
   },
   "outputs": [
    {
     "name": "stderr",
     "output_type": "stream",
     "text": [
      "/Library/Frameworks/Python.framework/Versions/3.5/lib/python3.5/site-packages/ipykernel/__main__.py:7: VisibleDeprecationWarning: boolean index did not match indexed array along dimension 0; dimension is 7 but corresponding boolean dimension is 6\n",
      "/Library/Frameworks/Python.framework/Versions/3.5/lib/python3.5/site-packages/ipykernel/__main__.py:10: DeprecationWarning: numpy boolean negative, the `-` operator, is deprecated, use the `~` operator or the logical_not function instead.\n",
      "/Library/Frameworks/Python.framework/Versions/3.5/lib/python3.5/site-packages/ipykernel/__main__.py:10: VisibleDeprecationWarning: boolean index did not match indexed array along dimension 0; dimension is 7 but corresponding boolean dimension is 6\n",
      "/Library/Frameworks/Python.framework/Versions/3.5/lib/python3.5/site-packages/ipykernel/__main__.py:13: VisibleDeprecationWarning: boolean index did not match indexed array along dimension 0; dimension is 7 but corresponding boolean dimension is 6\n",
      "/Library/Frameworks/Python.framework/Versions/3.5/lib/python3.5/site-packages/ipykernel/__main__.py:17: VisibleDeprecationWarning: boolean index did not match indexed array along dimension 0; dimension is 7 but corresponding boolean dimension is 6\n"
     ]
    },
    {
     "data": {
      "text/plain": [
       "array([[ 0.89725609,  0.        ,  0.28266572,  0.84908449],\n",
       "       [ 7.        ,  7.        ,  0.        ,  0.        ],\n",
       "       [ 7.        ,  7.        ,  0.18798721,  0.10221959],\n",
       "       [ 7.        ,  7.        ,  0.        ,  0.        ],\n",
       "       [ 1.32403178,  0.        ,  0.        ,  1.31601835],\n",
       "       [ 7.        ,  7.        ,  0.        ,  1.13378988],\n",
       "       [ 0.        ,  0.40472499,  0.        ,  0.        ]])"
      ]
     },
     "execution_count": 10,
     "metadata": {},
     "output_type": "execute_result"
    }
   ],
   "source": [
    "#布尔索引\n",
    "names=np.array(['Jack','Bob','Joe','Will','Jack','Joe'])\n",
    "data1=np.random.randn(7,4)\n",
    "data1\n",
    "namesIndex=(names=='Jack')\n",
    "#取boolean true索引位置\n",
    "data1[namesIndex]\n",
    "#取反 boolean\n",
    "#namesIndex2=(names!='Jack')\n",
    "data1[-(namesIndex)]\n",
    "#取| boolean\n",
    "make1=(names=='Jack')|(names=='Joe')\n",
    "data1[make1]\n",
    "#修改小于0的正态分布\n",
    "data1[data1<=0]=0\n",
    "data1\n",
    "data1[names!='Jack',:2]=7\n",
    "data1"
   ]
  },
  {
   "cell_type": "code",
   "execution_count": 20,
   "metadata": {
    "collapsed": false,
    "deletable": true,
    "editable": true
   },
   "outputs": [
    {
     "data": {
      "text/plain": [
       "array([[ 0,  4,  8, 12, 16, 20, 24, 28],\n",
       "       [ 1,  5,  9, 13, 17, 21, 25, 29],\n",
       "       [ 2,  6, 10, 14, 18, 22, 26, 30],\n",
       "       [ 3,  7, 11, 15, 19, 23, 27, 31]])"
      ]
     },
     "execution_count": 20,
     "metadata": {},
     "output_type": "execute_result"
    }
   ],
   "source": [
    "#二维数组索引\n",
    "data2=np.arange(32).reshape(8,4)\n",
    "#data2 第一个数组索引纵坐标，第二个数组索引横坐标\n",
    "data2[[2,5,1,7],[3,0,1,2]]\n",
    "#调整行数据顺序\n",
    "data2[[2,5,1,7]][:,[0,3,1,2]]\n",
    "arrp=np.ix_([2,5,1,7],[0,3,1,2])\n",
    "data2[arrp]\n"
   ]
  },
  {
   "cell_type": "code",
   "execution_count": 31,
   "metadata": {
    "collapsed": false,
    "deletable": true,
    "editable": true
   },
   "outputs": [
    {
     "name": "stdout",
     "output_type": "stream",
     "text": [
      "[[ 0.40215661 -0.94661526  1.3107214  -0.99394212 -0.99333882 -1.57058021]\n",
      " [ 0.19935726  1.82321883  1.02270446  0.80584904 -0.6062689   0.97300058]\n",
      " [-0.12596124 -0.01046317  0.55369886 -1.55398628  1.08780518 -0.50120539]]\n"
     ]
    },
    {
     "data": {
      "text/plain": [
       "28"
      ]
     },
     "execution_count": 31,
     "metadata": {},
     "output_type": "execute_result"
    }
   ],
   "source": [
    "#数组转置和轴对换\n",
    "#data2.T\n",
    "arr3=np.random.randn(6,3)\n",
    "print(arr3.T)\n",
    "\n",
    "np.dot(arr3.T,arr3)\n",
    "\n",
    "aj1=[2,3]\n",
    "aj2=[5,6]\n",
    "np.dot(aj1,aj2)"
   ]
  },
  {
   "cell_type": "code",
   "execution_count": 51,
   "metadata": {
    "collapsed": false,
    "deletable": true,
    "editable": true
   },
   "outputs": [
    {
     "name": "stdout",
     "output_type": "stream",
     "text": [
      "[[[ 0  1  2  3]\n",
      "  [ 4  5  6  7]]\n",
      "\n",
      " [[ 8  9 10 11]\n",
      "  [12 13 14 15]]]\n"
     ]
    },
    {
     "data": {
      "text/plain": [
       "array([[[ 0,  8],\n",
       "        [ 4, 12]],\n",
       "\n",
       "       [[ 1,  9],\n",
       "        [ 5, 13]],\n",
       "\n",
       "       [[ 2, 10],\n",
       "        [ 6, 14]],\n",
       "\n",
       "       [[ 3, 11],\n",
       "        [ 7, 15]]])"
      ]
     },
     "execution_count": 51,
     "metadata": {},
     "output_type": "execute_result"
    }
   ],
   "source": [
    "#高纬数组transpose\n",
    "arr4=np.arange(16).reshape((2,2,4))\n",
    "print(arr4)\n",
    "arr4.transpose((1,0,2))\n",
    "arr4.swapaxes(2,0)"
   ]
  },
  {
   "cell_type": "code",
   "execution_count": 80,
   "metadata": {
    "collapsed": false,
    "deletable": true,
    "editable": true
   },
   "outputs": [
    {
     "name": "stdout",
     "output_type": "stream",
     "text": [
      "[0 1 2 3 4 5 6 7 8 9]\n"
     ]
    },
    {
     "data": {
      "text/plain": [
       "array([  1.00000000e+00,   2.71828183e+00,   7.38905610e+00,\n",
       "         2.00855369e+01,   5.45981500e+01,   1.48413159e+02,\n",
       "         4.03428793e+02,   1.09663316e+03,   2.98095799e+03,\n",
       "         8.10308393e+03])"
      ]
     },
     "execution_count": 80,
     "metadata": {},
     "output_type": "execute_result"
    }
   ],
   "source": [
    "#general function\n",
    "arr5=np.arange(10)\n",
    "print(arr5)\n",
    "#np.sqrt(arr5)\n",
    "np.exp(arr5)\n"
   ]
  },
  {
   "cell_type": "code",
   "execution_count": 34,
   "metadata": {
    "collapsed": false,
    "deletable": true,
    "editable": true
   },
   "outputs": [
    {
     "data": {
      "text/plain": [
       "array([ 1.28407053, -0.6283305 ,  0.8882447 ,  1.08080686, -0.87651227,\n",
       "        0.90129165,  1.19454153,  0.78009853])"
      ]
     },
     "execution_count": 34,
     "metadata": {},
     "output_type": "execute_result"
    }
   ],
   "source": [
    "x = np.random.randn(8)\n",
    "y = np.random.randn(8)\n",
    "#x\n",
    "#y\n",
    "np.maximum(x, y)"
   ]
  },
  {
   "cell_type": "code",
   "execution_count": 3,
   "metadata": {
    "collapsed": false,
    "deletable": true,
    "editable": true
   },
   "outputs": [
    {
     "data": {
      "image/png": "[encoded data removed]",
      "text/plain": [
       "<matplotlib.figure.Figure at 0x10464c400>"
      ]
     },
     "metadata": {},
     "output_type": "display_data"
    }
   ],
   "source": [
    "from matplotlib.pyplot import imshow, title\n",
    "import matplotlib.pyplot as plt\n",
    "#数组\n",
    "arr6=np.arange(-5,5,0.01)\n",
    "xs,ys=np.meshgrid(arr6,arr6)\n",
    "z=np.sqrt(xs**2+ys**2)\n",
    "z\n",
    "plt.imshow(z, cmap=plt.cm.gray); plt.colorbar()\n",
    "plt.title(\"Image plot of $\\sqrt{x^2 + y^2}$ for a grid of values\")\n",
    "plt.draw()"
   ]
  },
  {
   "cell_type": "code",
   "execution_count": 48,
   "metadata": {
    "collapsed": false,
    "deletable": true,
    "editable": true
   },
   "outputs": [
    {
     "name": "stdout",
     "output_type": "stream",
     "text": [
      "[1.1, 2.2, 1.3, 1.4, 2.5]\n"
     ]
    },
    {
     "name": "stderr",
     "output_type": "stream",
     "text": [
      "/Library/Frameworks/Python.framework/Versions/3.5/lib/python3.5/site-packages/ipykernel/__main__.py:40: DeprecationWarning: numpy boolean subtract, the `-` operator, is deprecated, use the bitwise_xor, the `^` operator, or the logical_xor function instead.\n",
      "/Library/Frameworks/Python.framework/Versions/3.5/lib/python3.5/site-packages/ipykernel/__main__.py:40: DeprecationWarning: numpy boolean negative, the `-` operator, is deprecated, use the `~` operator or the logical_not function instead.\n"
     ]
    },
    {
     "data": {
      "text/plain": [
       "array([3, 3, 1, 0, 3])"
      ]
     },
     "execution_count": 48,
     "metadata": {},
     "output_type": "execute_result"
    }
   ],
   "source": [
    "#数组条件运算\n",
    "xarr=np.array([1.1,1.2,1.3,1.4,1.5]).astype('float32')\n",
    "yarr=np.array([2.1,2.2,2.3,2.4,2.5]).astype('float32')\n",
    "cond=np.array([True,False,True,True,False])\n",
    "#返回如果cond为true的对应位置x或为false的对应位置y\n",
    "#python实现\n",
    "print([(x if c else y) for x,y,c in zip(xarr,yarr,cond) ])\n",
    "\n",
    "#numpy实现  长度需一致\n",
    "result1=np.where(cond,xarr,yarr)\n",
    "result1\n",
    "\n",
    "#根据数组数值判更改数组数值\n",
    "arr7=np.random.randn(4,4)\n",
    "#不会更改源数组\n",
    "a=np.where(arr7>0,2,-2)\n",
    "#只将正值设置为2\n",
    "a=np.where(arr7>0,2,arr7)\n",
    "#a\n",
    "#复合where条件\n",
    "#1 python实现\n",
    "cond1=np.array([False,False,True,True,False])\n",
    "cond2=np.array([True,False,False,True,False])\n",
    "\n",
    "result=[]\n",
    "for a,b in zip(cond1,cond2):\n",
    "    if(a&b):\n",
    "        result.append(0)\n",
    "    elif(a):\n",
    "        result.append(1)\n",
    "    elif(b):\n",
    "        result.append(2)\n",
    "    else:\n",
    "        result.append(3)\n",
    "#result      \n",
    "#2 numpy实现\n",
    "aaaaa=np.where(cond1&cond2,0,np.where(cond1,1,np.where(cond2,2,3)))\n",
    "aaaaa\n"
   ]
  },
  {
   "cell_type": "code",
   "execution_count": 87,
   "metadata": {
    "collapsed": false,
    "deletable": true,
    "editable": true
   },
   "outputs": [
    {
     "name": "stdout",
     "output_type": "stream",
     "text": [
      "[[ 0.39785504  0.68639772  0.73638051  0.59300093]\n",
      " [ 0.09541128  0.34089905  0.59832537  0.82234583]\n",
      " [ 0.22912887  0.75886774  0.83379884  0.10479938]\n",
      " [ 0.14021083  0.5515114   0.26518195  0.57821211]\n",
      " [ 0.46811023  0.82807394  0.19173645  0.81619404]]\n",
      "[ 1.33071625  3.16574986  2.62542312  2.91455229]\n",
      "[ 2.4136342   1.85698153  1.92659483  1.53511629  2.30411466]\n",
      "[[ 0.39785504  0.68639772  0.73638051  0.59300093]\n",
      " [ 0.49326632  1.02729678  1.33470588  1.41534676]\n",
      " [ 0.72239519  1.78616452  2.16850472  1.52014614]\n",
      " [ 0.86260602  2.33767592  2.43368667  2.09835825]\n",
      " [ 1.33071625  3.16574986  2.62542312  2.91455229]]\n",
      "[[ 0.39785504  0.27308679  0.20109579  0.11924999]\n",
      " [ 0.09541128  0.03252562  0.0194609   0.01600359]\n",
      " [ 0.22912887  0.17387851  0.1449797   0.01519378]\n",
      " [ 0.14021083  0.07732787  0.02050596  0.01185679]\n",
      " [ 0.46811023  0.38762988  0.07432278  0.06066181]]\n"
     ]
    }
   ],
   "source": [
    "#数学和统计方法\n",
    "\n",
    "arr8=np.random.rand(5,4)\n",
    "print(arr8)\n",
    "arr8.mean()\n",
    "#-二维 0-列求总  1行\n",
    "print(arr8.sum(axis=0))\n",
    "print(arr8.sum(axis=1))\n",
    "# 二维 0列累加 1行累加 不修改原值\n",
    "print(arr8.cumsum(0))\n",
    "# 二维 0列累乘积 1行累乘积 不修改原值\n",
    "print(arr8.cumprod(1))"
   ]
  },
  {
   "cell_type": "code",
   "execution_count": 95,
   "metadata": {
    "collapsed": false,
    "deletable": true,
    "editable": true
   },
   "outputs": [
    {
     "name": "stdout",
     "output_type": "stream",
     "text": [
      "950\n"
     ]
    },
    {
     "data": {
      "text/plain": [
       "1.6876545982299598"
      ]
     },
     "execution_count": 95,
     "metadata": {},
     "output_type": "execute_result"
    }
   ],
   "source": [
    "#sort\n",
    "arr9=np.random.randn(1000)\n",
    "#在原值修改，np.sort 创建副本\n",
    "arr9.sort()\n",
    "#百分比位数定位  X%\n",
    "print(int(0.95*len(arr9)))\n",
    "arr9[int(0.95*len(arr9))]\n"
   ]
  },
  {
   "cell_type": "code",
   "execution_count": 6,
   "metadata": {
    "collapsed": false,
    "deletable": true,
    "editable": true
   },
   "outputs": [
    {
     "data": {
      "text/plain": [
       "array([[  98.,  127.,  156.],\n",
       "       [  27.,   33.,   39.],\n",
       "       [  44.,   61.,   78.]])"
      ]
     },
     "execution_count": 6,
     "metadata": {},
     "output_type": "execute_result"
    }
   ],
   "source": [
    "#线性代数\n",
    "#矩阵乘法\n",
    "#它只有在第一个矩阵的列数（column）和第二个矩阵的行数（row）相同时才有意义  。\n",
    "#一般单指矩阵乘积时，指的便是一般矩阵乘积。一个m×n的矩阵就是m×n个数排成m行n列的一个数阵。由于它把许多数据紧凑的集中到了一起\n",
    "data_y1=np.array([[1.,2.,3.],[4.,5.,6.]])\n",
    "data_x1=np.array([[6.,23.],[-1,7],[8,9]])\n",
    "#矩阵乘法\n",
    "data_result1=data_x1.dot(data_y1)\n",
    "data_result1\n"
   ]
  },
  {
   "cell_type": "code",
   "execution_count": 12,
   "metadata": {
    "collapsed": false,
    "deletable": true,
    "editable": true
   },
   "outputs": [
    {
     "name": "stdout",
     "output_type": "stream",
     "text": [
      "[[15 30 45 60 75]\n",
      " [15 30 45 60 75]\n",
      " [15 30 45 60 75]\n",
      " [15 30 45 60 75]\n",
      " [15 30 45 60 75]]\n",
      "[[1 2 3 4 5]\n",
      " [1 2 3 4 5]\n",
      " [1 2 3 4 5]\n",
      " [1 2 3 4 5]\n",
      " [1 2 3 4 5]]\n",
      "[[1 1 1 1 1]\n",
      " [2 2 2 2 2]\n",
      " [3 3 3 3 3]\n",
      " [4 4 4 4 4]\n",
      " [5 5 5 5 5]]\n"
     ]
    },
    {
     "data": {
      "text/plain": [
       "array([[  5,  10,  15,  20,  25],\n",
       "       [ 10,  20,  30,  40,  50],\n",
       "       [ 15,  30,  45,  60,  75],\n",
       "       [ 20,  40,  60,  80, 100],\n",
       "       [ 25,  50,  75, 100, 125]])"
      ]
     },
     "execution_count": 12,
     "metadata": {},
     "output_type": "execute_result"
    }
   ],
   "source": [
    "#numpy linalg\n",
    "data_x2=np.array([[1,2,3,4,5],[1,2,3,4,5],[1,2,3,4,5],[1,2,3,4,5],[1,2,3,4,5]])\n",
    "#data_x2=np.random.randn(5,5)\n",
    "print(data_x2.dot(data_x2))\n",
    "print(data_x2)\n",
    "#反转\n",
    "print(data_x2.T)\n",
    "data_x2_2=data_x2.T.dot(data_x2)\n",
    "data_x2_2\n"
   ]
  }
 ],
 "metadata": {
  "kernelspec": {
   "display_name": "Python 3",
   "language": "python",
   "name": "python3"
  },
  "language_info": {
   "codemirror_mode": {
    "name": "ipython",
    "version": 3
   },
   "file_extension": ".py",
   "mimetype": "text/x-python",
   "name": "python",
   "nbconvert_exporter": "python",
   "pygments_lexer": "ipython3",
   "version": "3.5.2"
  }
 },
 "nbformat": 4,
 "nbformat_minor": 0
}
