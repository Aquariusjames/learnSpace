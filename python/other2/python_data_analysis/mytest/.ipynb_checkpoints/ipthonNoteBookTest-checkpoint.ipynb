{
 "cells": [
  {
   "cell_type": "code",
   "execution_count": 5,
   "metadata": {
    "collapsed": false
   },
   "outputs": [
    {
     "data": {
      "text/plain": [
       "'inet 10.167.43.106 netmask 0xffffff00 broadcast 10.167.43.255'"
      ]
     },
     "execution_count": 5,
     "metadata": {},
     "output_type": "execute_result"
    }
   ],
   "source": [
    "ip_info=!ifconfig en0|grep \"inet\"\n",
    "ip_info[1].strip()"
   ]
  },
  {
   "cell_type": "code",
   "execution_count": 8,
   "metadata": {
    "collapsed": false
   },
   "outputs": [
    {
     "name": "stdout",
     "output_type": "stream",
     "text": [
      "/Users/yuhaiyang/GitHub/haiyang/learnSpace/python/other2/python_data_analysis/pydata-book-master/ch03\n"
     ]
    }
   ],
   "source": [
    "%pwd\n",
    "#进入debug程序目录\n",
    "%cd '/Users/yuhaiyang/GitHub/haiyang/learnSpace/python/other2/python_data_analysis/pydata-book-master/ch03'"
   ]
  }
 ],
 "metadata": {
  "kernelspec": {
   "display_name": "Python 3",
   "language": "python",
   "name": "python3"
  },
  "language_info": {
   "codemirror_mode": {
    "name": "ipython",
    "version": 3
   },
   "file_extension": ".py",
   "mimetype": "text/x-python",
   "name": "python",
   "nbconvert_exporter": "python",
   "pygments_lexer": "ipython3",
   "version": "3.5.2"
  }
 },
 "nbformat": 4,
 "nbformat_minor": 2
}
