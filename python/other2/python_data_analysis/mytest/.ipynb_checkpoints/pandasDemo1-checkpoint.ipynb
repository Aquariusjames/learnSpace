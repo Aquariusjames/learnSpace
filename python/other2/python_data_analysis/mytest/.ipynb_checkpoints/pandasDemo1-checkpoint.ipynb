{
 "cells": [
  {
   "cell_type": "code",
   "execution_count": 27,
   "metadata": {
    "collapsed": false
   },
   "outputs": [
    {
     "data": {
      "text/plain": [
       "array([ 2.,  4.,  7.,  2.,  5.], dtype=float32)"
      ]
     },
     "execution_count": 27,
     "metadata": {},
     "output_type": "execute_result"
    }
   ],
   "source": [
    "from pandas import Series,DataFrame\n",
    "import numpy as np \n",
    "import pandas as pd\n",
    "#pandas数据结构  series  dataframe\n",
    "#series\n",
    "series1= Series(np.array([2,4,7,2,5]).astype(np.float32))\n",
    "series1.values"
   ]
  },
  {
   "cell_type": "code",
   "execution_count": 30,
   "metadata": {
    "collapsed": false
   },
   "outputs": [
    {
     "data": {
      "text/plain": [
       "Ohio      False\n",
       "b          True\n",
       "c          True\n",
       "Texas     False\n",
       "e          True\n",
       "Oregon    False\n",
       "g          True\n",
       "dtype: bool"
      ]
     },
     "execution_count": 30,
     "metadata": {},
     "output_type": "execute_result"
    }
   ],
   "source": [
    "series2=Series(np.random.randint(100,size=2),index=['a','b'])\n",
    "#series2.values\n",
    "#$series2.index\n",
    "#index search\n",
    "series2['a']\n",
    "#dict create series\n",
    "sdata={'Ohio':35000,'Texas':71000,'Oregon':16000}\n",
    "s1=[1,2,3,4,5,6]\n",
    "i1=['Ohio','b','c','Texas','e','Oregon','g']\n",
    "series3=Series(sdata)\n",
    "series3\n",
    "#series4=Series(s1,i1)\n",
    "series4=Series(sdata,i1)\n",
    "series4\n",
    "#update index\n",
    "#series4.index=[1,2,3,4,5,6,7]\n",
    "pd.isnull(series4)"
   ]
  }
 ],
 "metadata": {
  "kernelspec": {
   "display_name": "Python 3",
   "language": "python",
   "name": "python3"
  },
  "language_info": {
   "codemirror_mode": {
    "name": "ipython",
    "version": 3
   },
   "file_extension": ".py",
   "mimetype": "text/x-python",
   "name": "python",
   "nbconvert_exporter": "python",
   "pygments_lexer": "ipython3",
   "version": "3.5.2"
  }
 },
 "nbformat": 4,
 "nbformat_minor": 2
}
